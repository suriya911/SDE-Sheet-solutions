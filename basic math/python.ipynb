{
 "cells": [
  {
   "cell_type": "code",
   "execution_count": 1,
   "metadata": {},
   "outputs": [
    {
     "name": "stdout",
     "output_type": "stream",
     "text": [
      "5\n"
     ]
    }
   ],
   "source": [
    "n=int(input())\n",
    "# print(len(str(n)))\n",
    "\n",
    "cnt=0\n",
    "\n",
    "while n>0:\n",
    "    cnt+=1\n",
    "    n//=10\n",
    "print(cnt)\n",
    "\n",
    "# import math\n",
    "\n",
    "# print(int(math.log10(n))+1)\n",
    "\n"
   ]
  },
  {
   "cell_type": "code",
   "execution_count": 2,
   "metadata": {},
   "outputs": [
    {
     "name": "stdout",
     "output_type": "stream",
     "text": [
      "635241\n"
     ]
    }
   ],
   "source": [
    "n=int(input())\n",
    "rev=0\n",
    "\n",
    "while n>0:\n",
    "    d = n%10\n",
    "    rev = rev * 10 + d\n",
    "    n //= 10\n",
    "\n",
    "print(rev)"
   ]
  },
  {
   "cell_type": "code",
   "execution_count": 3,
   "metadata": {},
   "outputs": [
    {
     "name": "stdout",
     "output_type": "stream",
     "text": [
      "True\n"
     ]
    }
   ],
   "source": [
    "n = int(input())\n",
    "\n",
    "# print(int(str(n)[::-1]) == n)\n",
    "copy = n\n",
    "rev = 0\n",
    "while n>0:\n",
    "    d = n%10\n",
    "    rev = rev * 10 + d\n",
    "    n //= 10\n",
    "    \n",
    "print(rev == copy)\n"
   ]
  },
  {
   "cell_type": "code",
   "execution_count": 4,
   "metadata": {},
   "outputs": [
    {
     "name": "stdout",
     "output_type": "stream",
     "text": [
      "2\n"
     ]
    }
   ],
   "source": [
    "def gcd(a,b):\n",
    "    if b==0:\n",
    "        return a\n",
    "    return gcd(b,a%b)\n",
    "\n",
    "\n",
    "a=int(input())\n",
    "b=int(input())\n",
    "\n",
    "print(gcd(a,b))\n"
   ]
  },
  {
   "cell_type": "code",
   "execution_count": 5,
   "metadata": {},
   "outputs": [
    {
     "name": "stdout",
     "output_type": "stream",
     "text": [
      "True\n"
     ]
    }
   ],
   "source": [
    "def armstrong(n):\n",
    "    rev = 0\n",
    "    p = len(str(n))\n",
    "    while n>0:\n",
    "        d = n%10\n",
    "        rev = rev + d**p\n",
    "        n //= 10\n",
    "\n",
    "    return rev\n",
    "\n",
    "n = int(input())\n",
    "\n",
    "print(armstrong(n) == n)\n",
    "\n",
    "\n"
   ]
  },
  {
   "cell_type": "code",
   "execution_count": 6,
   "metadata": {},
   "outputs": [
    {
     "name": "stdout",
     "output_type": "stream",
     "text": [
      "[1, 2, 3, 4, 6, 8, 12, 16, 24, 48]\n"
     ]
    }
   ],
   "source": [
    "def divisors(n):\n",
    "    l=[]\n",
    "    for i in range(1,int(n**0.5)+1):\n",
    "        if n%i==0:\n",
    "            l.append(i)\n",
    "            if i!=n//i:\n",
    "                l.append(n//i)\n",
    "    return sorted(l)\n",
    "\n",
    "n = int(input())\n",
    "print(divisors(n))            "
   ]
  },
  {
   "cell_type": "code",
   "execution_count": 7,
   "metadata": {},
   "outputs": [
    {
     "name": "stdout",
     "output_type": "stream",
     "text": [
      "True\n"
     ]
    }
   ],
   "source": [
    "def isprime(n):\n",
    "    if n<2:\n",
    "        return False\n",
    "    for i in range(2,int(n**0.5)+1):\n",
    "        if n%i==0:\n",
    "            return False\n",
    "    return True\n",
    "\n",
    "n = int(input())\n",
    "print(isprime(n))"
   ]
  }
 ],
 "metadata": {
  "kernelspec": {
   "display_name": "base",
   "language": "python",
   "name": "python3"
  },
  "language_info": {
   "codemirror_mode": {
    "name": "ipython",
    "version": 3
   },
   "file_extension": ".py",
   "mimetype": "text/x-python",
   "name": "python",
   "nbconvert_exporter": "python",
   "pygments_lexer": "ipython3",
   "version": "3.12.4"
  }
 },
 "nbformat": 4,
 "nbformat_minor": 2
}
