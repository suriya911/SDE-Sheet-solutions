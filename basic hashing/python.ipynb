{
 "cells": [
  {
   "cell_type": "code",
   "execution_count": 2,
   "metadata": {},
   "outputs": [
    {
     "name": "stdout",
     "output_type": "stream",
     "text": [
      "[10, 15, 14, 25, 36, 10, 25, 15, 24, 15, 23, 36, 35, 35, 25, 15, 26, 36]\n",
      "10 -> 2\n",
      "15 -> 4\n",
      "14 -> 1\n",
      "25 -> 3\n",
      "36 -> 3\n",
      "24 -> 1\n",
      "23 -> 1\n",
      "35 -> 2\n",
      "26 -> 1\n"
     ]
    }
   ],
   "source": [
    "def create_dict(arr):\n",
    "    d={}\n",
    "    for i in arr:\n",
    "        if i in d:\n",
    "            d[i]+=1\n",
    "        else:\n",
    "            d[i]=1\n",
    "    return d\n",
    "\n",
    "n=int(input())\n",
    "arr=list(map(int,input().split()))\n",
    "print(arr)\n",
    "d=create_dict(arr)\n",
    "for i in d.items():\n",
    "    print(i[0],\"->\",i[1])"
   ]
  },
  {
   "cell_type": "code",
   "execution_count": 8,
   "metadata": {},
   "outputs": [
    {
     "name": "stdout",
     "output_type": "stream",
     "text": [
      "[10, 12, 14, 13, 15, 16, 171, 52, 412, 62, 53, 42, 20, 10, 21, 2, 10, 10, 21, 1, 10]\n",
      "minimum value is 12 and frequency is 1\n",
      "maximum value is 10 and frequency is 5\n"
     ]
    }
   ],
   "source": [
    "def min_max_dict(d):\n",
    "    min_key = min(d, key=d.get)\n",
    "    min_val = d[min_key]\n",
    "    max_key = max(d, key=d.get)\n",
    "    max_val = d[max_key]\n",
    "    return min_val,min_key,max_val,max_key\n",
    "\n",
    "n=int(input())\n",
    "arr=list(map(int,input().split()))\n",
    "print(arr)\n",
    "s=create_dict(arr)\n",
    "a,b,c,d=min_max_dict(s)\n",
    "print(f'minimum value is {b} and frequency is {a}')\n",
    "print(f'maximum value is {d} and frequency is {c}')"
   ]
  }
 ],
 "metadata": {
  "kernelspec": {
   "display_name": "base",
   "language": "python",
   "name": "python3"
  },
  "language_info": {
   "codemirror_mode": {
    "name": "ipython",
    "version": 3
   },
   "file_extension": ".py",
   "mimetype": "text/x-python",
   "name": "python",
   "nbconvert_exporter": "python",
   "pygments_lexer": "ipython3",
   "version": "3.12.4"
  }
 },
 "nbformat": 4,
 "nbformat_minor": 2
}
