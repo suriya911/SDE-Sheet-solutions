{
 "cells": [
  {
   "cell_type": "code",
   "execution_count": 1,
   "metadata": {},
   "outputs": [
    {
     "name": "stdout",
     "output_type": "stream",
     "text": [
      "5\n",
      "4\n",
      "3\n",
      "2\n",
      "1\n"
     ]
    }
   ],
   "source": [
    "def printnum(n):\n",
    "    if n <=0:\n",
    "        return \n",
    "    print(n)\n",
    "    printnum(n-1)\n",
    "    \n",
    "printnum(5)"
   ]
  },
  {
   "cell_type": "code",
   "execution_count": 3,
   "metadata": {},
   "outputs": [
    {
     "name": "stdout",
     "output_type": "stream",
     "text": [
      "hello\n",
      "hello\n",
      "hello\n",
      "hello\n",
      "hello\n"
     ]
    }
   ],
   "source": [
    "def printname(s,n):\n",
    "    if n <= 0:\n",
    "        return\n",
    "    print(s)\n",
    "    printname(s,n-1)\n",
    "\n",
    "printname(\"hello\",5)    "
   ]
  },
  {
   "cell_type": "code",
   "execution_count": 5,
   "metadata": {},
   "outputs": [
    {
     "name": "stdout",
     "output_type": "stream",
     "text": [
      "1\n",
      "2\n",
      "3\n",
      "4\n",
      "5\n"
     ]
    }
   ],
   "source": [
    "def print1_n(n):\n",
    "    if n<=0:\n",
    "        return\n",
    "    print1_n(n-1)\n",
    "    print(n)\n",
    "    \n",
    "print1_n(5)"
   ]
  },
  {
   "cell_type": "code",
   "execution_count": 7,
   "metadata": {},
   "outputs": [
    {
     "name": "stdout",
     "output_type": "stream",
     "text": [
      "5\n",
      "4\n",
      "3\n",
      "2\n",
      "1\n"
     ]
    }
   ],
   "source": [
    "def printn_1(n):\n",
    "    if n <= 0:\n",
    "        return\n",
    "    print(n)\n",
    "    printn_1(n-1)\n",
    "\n",
    "\n",
    "print1_n(5)"
   ]
  },
  {
   "cell_type": "code",
   "execution_count": 8,
   "metadata": {},
   "outputs": [
    {
     "name": "stdout",
     "output_type": "stream",
     "text": [
      "15\n"
     ]
    }
   ],
   "source": [
    "def sum(n):\n",
    "    if n==1:\n",
    "        return 1\n",
    "    return n + sum(n-1)\n",
    "\n",
    "print(sum(5))"
   ]
  },
  {
   "cell_type": "code",
   "execution_count": 9,
   "metadata": {},
   "outputs": [
    {
     "name": "stdout",
     "output_type": "stream",
     "text": [
      "120\n"
     ]
    }
   ],
   "source": [
    "def factorial(n):\n",
    "    if n==1:\n",
    "        return 1\n",
    "    return n*factorial(n-1)\n",
    "\n",
    "print(factorial(5))"
   ]
  },
  {
   "cell_type": "code",
   "execution_count": 11,
   "metadata": {},
   "outputs": [
    {
     "name": "stdout",
     "output_type": "stream",
     "text": [
      "[5, 4, 3, 2, 1]\n"
     ]
    }
   ],
   "source": [
    "def reverse_array(arr,start,end):\n",
    "    if start >= end:\n",
    "        return\n",
    "    arr[start],arr[end] = arr[end],arr[start]\n",
    "    reverse_array(arr,start+1,end-1)\n",
    "    return arr\n",
    "\n",
    "arr = [1,2,3,4,5]\n",
    "n=len(arr)\n",
    "rev = reverse_array(arr,0,n-1)\n",
    "print(rev)"
   ]
  },
  {
   "cell_type": "code",
   "execution_count": 13,
   "metadata": {},
   "outputs": [
    {
     "name": "stdout",
     "output_type": "stream",
     "text": [
      "True\n",
      "False\n"
     ]
    }
   ],
   "source": [
    "def is_palindrome(s,start,end):\n",
    "    if start >= end:\n",
    "        return True\n",
    "    if s[start] != s[end]:\n",
    "        return False\n",
    "    return is_palindrome(s,start+1,end-1)\n",
    "\n",
    "s = \"madam\"\n",
    "print(is_palindrome(s,0,len(s)-1))\n",
    "\n",
    "t= \"hello\"\n",
    "print(is_palindrome(t,0,len(t)-1))\n"
   ]
  },
  {
   "cell_type": "code",
   "execution_count": 22,
   "metadata": {},
   "outputs": [
    {
     "data": {
      "text/plain": [
       "21"
      ]
     },
     "execution_count": 22,
     "metadata": {},
     "output_type": "execute_result"
    }
   ],
   "source": [
    "def print_fibo(n):\n",
    "    if n<1:\n",
    "        return 1\n",
    "    last = print_fibo(n-1)\n",
    "    slast = print_fibo(n-2)\n",
    "    # print(last+slast)\n",
    "    return last+slast\n",
    "\n",
    "print_fibo(6)"
   ]
  },
  {
   "cell_type": "code",
   "execution_count": 26,
   "metadata": {},
   "outputs": [
    {
     "name": "stdout",
     "output_type": "stream",
     "text": [
      "0 1 1 2 3 5 8 13 21 "
     ]
    }
   ],
   "source": [
    "def print_fibonacci(n,a=0,b=1):\n",
    "    if n<0:\n",
    "        return\n",
    "    print(a,end=' ')\n",
    "    print_fibonacci(n-1,b,a+b)\n",
    "    \n",
    "print_fibonacci(8)"
   ]
  },
  {
   "cell_type": "code",
   "execution_count": null,
   "metadata": {},
   "outputs": [],
   "source": []
  }
 ],
 "metadata": {
  "kernelspec": {
   "display_name": "base",
   "language": "python",
   "name": "python3"
  },
  "language_info": {
   "codemirror_mode": {
    "name": "ipython",
    "version": 3
   },
   "file_extension": ".py",
   "mimetype": "text/x-python",
   "name": "python",
   "nbconvert_exporter": "python",
   "pygments_lexer": "ipython3",
   "version": "3.12.4"
  }
 },
 "nbformat": 4,
 "nbformat_minor": 2
}
